{
  "nbformat": 4,
  "nbformat_minor": 0,
  "metadata": {
    "colab": {
      "provenance": [],
      "gpuType": "T4",
      "mount_file_id": "112KEcyCDSQr10kwRCF600XWQsNcfXk4R",
      "authorship_tag": "ABX9TyPigz9ZThQEIbrvqXgaY8DQ",
      "include_colab_link": true
    },
    "kernelspec": {
      "name": "python3",
      "display_name": "Python 3"
    },
    "language_info": {
      "name": "python"
    },
    "accelerator": "GPU"
  },
  "cells": [
    {
      "cell_type": "markdown",
      "metadata": {
        "id": "view-in-github",
        "colab_type": "text"
      },
      "source": [
        "<a href=\"https://colab.research.google.com/github/kunalmahadule/Stable-Diffusion-Model/blob/main/Stable_diffusion_base_2_1.ipynb\" target=\"_parent\"><img src=\"https://colab.research.google.com/assets/colab-badge.svg\" alt=\"Open In Colab\"/></a>"
      ]
    },
    {
      "cell_type": "markdown",
      "source": [
        "# 5 April 2025"
      ],
      "metadata": {
        "id": "q_5Wi8QVhpBG"
      }
    },
    {
      "cell_type": "markdown",
      "source": [
        "^^^^^^ STABLE DIFFUSION PIPELINE\n",
        "\n",
        "Genearative AI\n",
        "---\n",
        "STABLE DIFFUSION MODEL -->\n",
        "---\n",
        "Generative ai -->\n",
        "text based model  ( text - generataive text)\n",
        "multimodel --> text to image, text - audio\n",
        "--\n",
        "1st -->  Google generiative ai (gemini ai )\n",
        "\t\t\tgemini 2.0 flash ( 2.5 has not launched)\n",
        "\n",
        "2nd --> EDA automatiion using mistral ai, deepseek ai ollama + gradio\n",
        "\n",
        "3rd --> stable diffusion model image model\n",
        "\n",
        "- Stable Diffusion is a deep learning, text-to-image model released\n",
        "\tin 2022 based on diffusion techniques\n",
        "- The generative artificial intelligence technology is the premier product of Stability AI.\n",
        "- Before stabiliyt AI its development involved researchers from the CompVis Group (2015_\n",
        "- Stable Diffusion is a latent diffusion model, a kind of deep\n",
        "\tgenerative artificial neural network (GNN) || ANN || RNN | CNN\n",
        "- DALL E2 | MIDJOURNEY compitior of stable diffusion\n",
        "- Stable Diffusion is a latent diffusion model, a kind of deep generative artificial\n",
        "\tneural network\n",
        "\n",
        "how to build -- we must build on gpu\n",
        "Real time where we implement this staable diffusion model\n",
        "\tsocial median montioring\n",
        "\tgame development\n",
        "\tfashion industry\n",
        "\tart generation for streamiong\n",
        "\tanimation\n",
        "----\n",
        "Practicle --> 1\n",
        "---\n",
        "1- login to hugging face.com\n",
        "2- register using gmail\n",
        "3- create your auth token ( please provide access to read, write acces)\n",
        "4- click on model -\n",
        "5- https://huggingface.co/models?search=stab ( list of model who huggingface)\n",
        "6- hugging face - model - stabilityai/stable-diffusion-2-1-base\n",
        "7- google colab - connect to gpu\n",
        "\n",
        "\n"
      ],
      "metadata": {
        "id": "VgMADPfYhpXW"
      }
    },
    {
      "cell_type": "code",
      "execution_count": null,
      "metadata": {
        "id": "PY2IpUOvTjMJ"
      },
      "outputs": [],
      "source": [
        "pip install diffusers transformers accelerate scipy safetensors"
      ]
    },
    {
      "cell_type": "code",
      "source": [
        "!huggingface-cli login"
      ],
      "metadata": {
        "id": "uuwUK_tqVaVQ"
      },
      "execution_count": null,
      "outputs": []
    },
    {
      "cell_type": "code",
      "source": [
        "pip install gradio"
      ],
      "metadata": {
        "id": "t60ys671Y3YO"
      },
      "execution_count": null,
      "outputs": []
    },
    {
      "cell_type": "code",
      "source": [
        "# This cell contain code for image generation\n",
        "from diffusers import StableDiffusionPipeline, EulerDiscreteScheduler\n",
        "import torch\n",
        "\n",
        "model_id = \"stabilityai/stable-diffusion-2-1-base\"\n",
        "\n",
        "scheduler = EulerDiscreteScheduler.from_pretrained(model_id, subfolder=\"scheduler\")\n",
        "pipe = StableDiffusionPipeline.from_pretrained(model_id, scheduler=scheduler, torch_dtype=torch.float16)\n",
        "pipe = pipe.to(\"cuda\")\n",
        "\n",
        "# Enter the Prompt you want to generate image\n",
        "prompt = \"The picture of earth at 2035\"\n",
        "image = pipe(prompt).images[0]\n",
        "\n",
        "image.save(f\"{prompt}.png\")\n",
        "\n",
        "\n",
        "# from huggingface insert your api key after running this code\n"
      ],
      "metadata": {
        "id": "X3D730BSVaR4"
      },
      "execution_count": null,
      "outputs": []
    },
    {
      "cell_type": "code",
      "source": [
        "import gradio as gr\n",
        "from diffusers import StableDiffusionPipeline, EulerDiscreteScheduler\n",
        "import torch\n",
        "model_id = \"stabilityai/stable-diffusion-2-1-base\"\n",
        "scheduler = EulerDiscreteScheduler.from_pretrained(model_id, subfolder=\"scheduler\")\n",
        "pipe = StableDiffusionPipeline.from_pretrained(model_id, scheduler=scheduler, torch_dtype=torch.float16)\n",
        "pipe = pipe.to(\"cuda\")\n",
        "def generated_image(prompt):\n",
        "  image = pipe(prompt).image[0]\n",
        "  return image\n",
        "gr.Interface(\n",
        "    fn = generated_image,\n",
        "    inputs = gr.Textbox(label = \"Enter your prompt\"),\n",
        "    outputs = gr.Image(type=\"pil\"),\n",
        "    title=\"Stable Diffusion 2.1 - AI IMAGE GENERATOR APP\",\n",
        "    description=\"Enter text prompt and see the generated image\"\n",
        ").launch()"
      ],
      "metadata": {
        "id": "-6o0JR_3VaPG"
      },
      "execution_count": null,
      "outputs": []
    },
    {
      "cell_type": "code",
      "source": [
        "# By kodi\n",
        "\n",
        "import gradio as gr\n",
        "from diffusers import StableDiffusionPipeline, EulerDiscreteScheduler\n",
        "import torch\n",
        "model_id = \"stabilityai/stable-diffusion-2-1-base\"\n",
        "scheduler = EulerDiscreteScheduler.from_pretrained(model_id, subfolder=\"scheduler\")\n",
        "pipe = StableDiffusionPipeline.from_pretrained(model_id, scheduler=scheduler, torch_dtype=torch.float16)\n",
        "pipe = pipe.to(\"cuda\")\n",
        "def generated_image(prompt):\n",
        "    image = pipe(prompt).images[0]\n",
        "    return image\n",
        "gr.Interface(\n",
        "    fn=generated_image,\n",
        "    inputs=gr.Textbox(label=\"Enter your prompt\"),\n",
        "    outputs=gr.Image(type=\"pil\"),\n",
        "    title=\"Stable Diffusion 2.1 - AI IMAGE GENERATOR APP\",\n",
        "    description=\"Enter text prompt and see the generated image\"\n",
        ").launch()"
      ],
      "metadata": {
        "id": "yKot0Kz0cRRs"
      },
      "execution_count": null,
      "outputs": []
    },
    {
      "cell_type": "code",
      "source": [
        "!nvidia-smi"
      ],
      "metadata": {
        "id": "kuGglLcNV9mo"
      },
      "execution_count": null,
      "outputs": []
    },
    {
      "cell_type": "code",
      "source": [],
      "metadata": {
        "id": "qPR982HgV9j2"
      },
      "execution_count": null,
      "outputs": []
    }
  ]
}